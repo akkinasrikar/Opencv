{
 "cells": [
  {
   "cell_type": "markdown",
   "metadata": {},
   "source": [
    "# Tutorial 3 (:-})"
   ]
  },
  {
   "cell_type": "markdown",
   "metadata": {},
   "source": [
    "## Reading video frames from webcam and saving those frames"
   ]
  },
  {
   "cell_type": "code",
   "execution_count": 3,
   "metadata": {},
   "outputs": [],
   "source": [
    "import cv2\n",
    "import numpy as np\n",
    "\n",
    "capture=cv2.VideoCapture(0)\n",
    "\n",
    "frame_width=int(capture.get(3))\n",
    "frame_height=int(capture.get(4))\n",
    "frame_index=1\n",
    "\n",
    "if capture.isOpened is False:\n",
    "    print(\"erroe while opening the camera\")\n",
    "    \n",
    "while capture.isOpened():\n",
    "\n",
    "    ret,frame=capture.read()\n",
    "    #ret is basically about camera producing the frames or not,i.e it returns \n",
    "    #boolean value to ret variable\n",
    "    \n",
    "    if ret is True:\n",
    "        \n",
    "        cv2.imshow(\"input frame\",frame)\n",
    "        grayframe=cv2.cvtColor(frame,cv2.COLOR_BGR2GRAY)\n",
    "        cv2.imshow(\"gray frame\",grayframe)\n",
    "        \n",
    "        if cv2.waitKey(10) & 0xFF == ord('m'):\n",
    "            #if we press m key then it will stop\n",
    "            break\n",
    "    else:\n",
    "        break\n",
    "        \n",
    "capture.release()\n",
    "cv2.destroyAllWindows()\n",
    "        "
   ]
  },
  {
   "cell_type": "code",
   "execution_count": null,
   "metadata": {},
   "outputs": [],
   "source": [
    "#now let's see how save frames ,which are helpfull while doing face recognition\n",
    "#let's copy the above code"
   ]
  },
  {
   "cell_type": "code",
   "execution_count": 5,
   "metadata": {},
   "outputs": [],
   "source": [
    "import cv2\n",
    "import numpy as np\n",
    "\n",
    "capture=cv2.VideoCapture(0)\n",
    "\n",
    "frame_width=int(capture.get(3))\n",
    "frame_height=int(capture.get(4))\n",
    "frame_index=1\n",
    "\n",
    "if capture.isOpened is False:\n",
    "    print(\"erroe while opening the camera\")\n",
    "    \n",
    "while capture.isOpened():\n",
    "\n",
    "    ret,frame=capture.read()\n",
    "    #ret is basically about camera producing the frames or not,i.e it returns \n",
    "    #boolean value to ret variable\n",
    "    \n",
    "    if ret is True:\n",
    "        \n",
    "        cv2.imshow(\"input frame\",frame)\n",
    "        #grayframe=cv2.cvtColor(frame,cv2.COLOR_BGR2GRAY)\n",
    "        #cv2.imshow(\"gray frame\",grayframe)\n",
    "        \n",
    "        if cv2.waitKey(20) & 0xFF == ord('c'):\n",
    "            \n",
    "            framename=\"camera_frame{}.png\".format(frame_index)\n",
    "            cv2.imwrite(framename,frame)\n",
    "            frame_index=frame_index+1\n",
    "            #if u want to save frame then press c key\n",
    "        \n",
    "        \n",
    "        if cv2.waitKey(10) & 0xFF == ord('m'):\n",
    "            #if we press m key then it will stop\n",
    "            break\n",
    "    else:\n",
    "        break\n",
    "        \n",
    "capture.release()\n",
    "cv2.destroyAllWindows()\n",
    "        "
   ]
  },
  {
   "cell_type": "code",
   "execution_count": null,
   "metadata": {},
   "outputs": [],
   "source": []
  }
 ],
 "metadata": {
  "kernelspec": {
   "display_name": "Python 3",
   "language": "python",
   "name": "python3"
  },
  "language_info": {
   "codemirror_mode": {
    "name": "ipython",
    "version": 3
   },
   "file_extension": ".py",
   "mimetype": "text/x-python",
   "name": "python",
   "nbconvert_exporter": "python",
   "pygments_lexer": "ipython3",
   "version": "3.7.6"
  }
 },
 "nbformat": 4,
 "nbformat_minor": 4
}
