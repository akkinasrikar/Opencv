{
 "cells": [
  {
   "cell_type": "markdown",
   "metadata": {},
   "source": [
    "# Tutorial 2 (:-})"
   ]
  },
  {
   "cell_type": "markdown",
   "metadata": {},
   "source": [
    "## splitting and merging images"
   ]
  },
  {
   "cell_type": "code",
   "execution_count": 1,
   "metadata": {},
   "outputs": [],
   "source": [
    "#let's import the required libraries\n",
    "\n",
    "import cv2\n",
    "import numpy as np\n",
    "\n",
    "image=cv2.imread(\"a1.jpg\")\n",
    "#this image contains three channels \n",
    "#blue,red,green ,now split the colors\n",
    "\n",
    "b,g,r=cv2.split(image)\n",
    "\n",
    "#now create one dummy channel with zeros\n",
    "zeros=np.zeros(image.shape[:2],dtype='uint8')\n",
    "#print(zeros.shape)\n",
    "cv2.imshow(\"blue channel\",cv2.merge([b,zeros,zeros]))\n",
    "cv2.waitKey(0)\n",
    "cv2.imshow(\"red channel\",cv2.merge([zeros,r,zeros]))\n",
    "cv2.waitKey(0)\n",
    "cv2.imshow(\"green channel\",cv2.merge([zeros,zeros,g]))\n",
    "cv2.waitKey(0)\n",
    "cv2.destroyAllWindows()"
   ]
  },
  {
   "cell_type": "code",
   "execution_count": 2,
   "metadata": {},
   "outputs": [],
   "source": [
    "#now try in reverse order RGB\n",
    "cv2.imshow(\"RGB\",cv2.merge([r,g,b]))\n",
    "cv2.imshow(\"BGR\",cv2.merge([b,g,r]))\n",
    "cv2.waitKey(0)\n",
    "cv2.destroyAllWindows()"
   ]
  },
  {
   "cell_type": "code",
   "execution_count": 3,
   "metadata": {},
   "outputs": [],
   "source": [
    "#now we increase the intensity of individual colors\n",
    "cv2.imshow(\"sample1\",cv2.merge([b,g,r+100]))\n",
    "cv2.waitKey(0)\n",
    "cv2.destroyAllWindows()"
   ]
  },
  {
   "cell_type": "code",
   "execution_count": null,
   "metadata": {},
   "outputs": [],
   "source": []
  },
  {
   "cell_type": "code",
   "execution_count": null,
   "metadata": {},
   "outputs": [],
   "source": []
  }
 ],
 "metadata": {
  "kernelspec": {
   "display_name": "Python 3",
   "language": "python",
   "name": "python3"
  },
  "language_info": {
   "codemirror_mode": {
    "name": "ipython",
    "version": 3
   },
   "file_extension": ".py",
   "mimetype": "text/x-python",
   "name": "python",
   "nbconvert_exporter": "python",
   "pygments_lexer": "ipython3",
   "version": "3.7.6"
  }
 },
 "nbformat": 4,
 "nbformat_minor": 4
}
