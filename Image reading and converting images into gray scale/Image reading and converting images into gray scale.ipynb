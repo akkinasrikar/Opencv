{
 "cells": [
  {
   "cell_type": "markdown",
   "metadata": {},
   "source": [
    "# Tutorial 1 (:-})"
   ]
  },
  {
   "cell_type": "code",
   "execution_count": 15,
   "metadata": {},
   "outputs": [],
   "source": [
    "#let's see how to read images using opencv\n",
    "\n",
    "import cv2\n",
    "import numpy as np\n",
    "\n",
    "image=cv2.imread(\"a1.jpg\")\n",
    "cv2.imshow(\"flight\",image)\n",
    "cv2.waitKey(0)\n",
    "#here waitkey refers to time gap\n",
    "cv2.destroyAllWindows()\n",
    "#make sure your images must be in same directory"
   ]
  },
  {
   "cell_type": "code",
   "execution_count": 16,
   "metadata": {},
   "outputs": [
    {
     "name": "stdout",
     "output_type": "stream",
     "text": [
      "image size is 3275520 , image shape is (853, 1280, 3)\n"
     ]
    }
   ],
   "source": [
    "# let's see some insights in image\n",
    "\n",
    "imagesize=image.size\n",
    "#image.size returns the width*height*channel nummber(i.e total no of pixes in images)\n",
    "imageshape=image.shape\n",
    "#it return a tuple\n",
    "print(f\"image size is {imagesize} , image shape is {imageshape}\")"
   ]
  },
  {
   "cell_type": "code",
   "execution_count": 17,
   "metadata": {},
   "outputs": [],
   "source": [
    "# now let's how to conver color images to grayscale\n",
    "grayimage=cv2.cvtColor(image,cv2.COLOR_BGR2GRAY)\n",
    "cv2.imshow(\"grayflight\",grayimage)\n",
    "cv2.waitKey(0)\n",
    "cv2.destroyAllWindows()\n",
    "#this is method one"
   ]
  },
  {
   "cell_type": "code",
   "execution_count": 20,
   "metadata": {},
   "outputs": [],
   "source": [
    "#method 2\n",
    "grayimage=cv2.imread(\"a1.jpg\",0)\n",
    "#0==grayscale 1==color\n",
    "cv2.imshow(\"grayflight\",grayimage)\n",
    "cv2.waitKey(0)\n",
    "cv2.destroyAllWindows()"
   ]
  },
  {
   "cell_type": "code",
   "execution_count": null,
   "metadata": {},
   "outputs": [],
   "source": []
  },
  {
   "cell_type": "code",
   "execution_count": null,
   "metadata": {},
   "outputs": [],
   "source": []
  }
 ],
 "metadata": {
  "kernelspec": {
   "display_name": "Python 3",
   "language": "python",
   "name": "python3"
  },
  "language_info": {
   "codemirror_mode": {
    "name": "ipython",
    "version": 3
   },
   "file_extension": ".py",
   "mimetype": "text/x-python",
   "name": "python",
   "nbconvert_exporter": "python",
   "pygments_lexer": "ipython3",
   "version": "3.7.6"
  }
 },
 "nbformat": 4,
 "nbformat_minor": 4
}
